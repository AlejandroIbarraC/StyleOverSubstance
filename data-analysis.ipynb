{
 "cells": [
  {
   "metadata": {},
   "cell_type": "markdown",
   "source": [
    "# PERSUADE 2.0 Dataset Notebook\n",
    "## 4. Data Analysis\n",
    "\n",
    "Tests related to the PERSUADE 2.0 essay dataset.\n",
    "\n",
    "### Load dataset"
   ],
   "id": "2df83e4c1d62614d"
  },
  {
   "cell_type": "code",
   "id": "initial_id",
   "metadata": {
    "collapsed": true,
    "ExecuteTime": {
     "end_time": "2025-06-23T15:25:45.847114Z",
     "start_time": "2025-06-23T15:25:45.790297Z"
    }
   },
   "source": [
    "# load datasets\n",
    "\n",
    "import pandas as pd\n",
    "\n",
    "stance_pro_to_con_scored_gemma3_df = pd.read_csv('counterfactuals_scored/gemma3/stance_pro_to_con_scored.csv')\n",
    "stance_con_to_pro_scored_gemma3_df = pd.read_csv('counterfactuals_scored/gemma3/stance_con_to_pro_scored.csv')\n",
    "\n",
    "sentiment_positive_to_negative_scored_gemma3_df = pd.read_csv('counterfactuals_scored/gemma3/sentiment_positive_to_negative_scored.csv')\n",
    "sentiment_negative_to_positive_scored_gemma3_df = pd.read_csv('counterfactuals_scored/gemma3/sentiment_negative_to_positive_scored.csv')\n",
    "\n",
    "formality_formal_to_informal_scored_gemma3_df = pd.read_csv('counterfactuals_scored/gemma3/formality_formal_to_informal_scored.csv')\n",
    "formality_informal_to_formal_scored_gemma3_df = pd.read_csv('counterfactuals_scored/gemma3/formality_informal_to_formal_scored.csv')"
   ],
   "outputs": [],
   "execution_count": 2
  },
  {
   "metadata": {},
   "cell_type": "markdown",
   "source": "### Metrics",
   "id": "a40566cca95eb8e7"
  },
  {
   "metadata": {
    "ExecuteTime": {
     "end_time": "2025-06-23T15:45:18.879330Z",
     "start_time": "2025-06-23T15:45:18.389191Z"
    }
   },
   "cell_type": "code",
   "source": [
    "from sklearn.metrics import cohen_kappa_score\n",
    "\n",
    "# computes qwk value from df using original score and llm score\n",
    "def compute_qwk(df):\n",
    "    df_clean = df.dropna(subset=[\"score_og\", \"score_llm\"])\n",
    "\n",
    "    # extract originals and counterfactuals\n",
    "    originals = df_clean[df_clean[\"essay_code\"].str.endswith(\"-O\")]\n",
    "    cf = df_clean[df_clean[\"essay_code\"].str.contains(\"-C\")]\n",
    "\n",
    "    qwk_original = cohen_kappa_score(originals[\"score_og\"], originals[\"score_llm\"], weights='quadratic')\n",
    "    qwk_cf = cohen_kappa_score(cf[\"score_og\"], cf[\"score_llm\"], weights='quadratic')\n",
    "\n",
    "    print(f\"QWK (Originals): {qwk_original:.4f}\")\n",
    "    print(f\"QWK (Counterfactuals): {qwk_cf:.4f}\")\n",
    "\n",
    "    return qwk_original, qwk_cf"
   ],
   "id": "802ea6032b07f93c",
   "outputs": [],
   "execution_count": 3
  },
  {
   "metadata": {},
   "cell_type": "code",
   "outputs": [],
   "execution_count": null,
   "source": "",
   "id": "f3040aa99ecbdb4"
  }
 ],
 "metadata": {
  "kernelspec": {
   "display_name": "Python 3",
   "language": "python",
   "name": "python3"
  },
  "language_info": {
   "codemirror_mode": {
    "name": "ipython",
    "version": 2
   },
   "file_extension": ".py",
   "mimetype": "text/x-python",
   "name": "python",
   "nbconvert_exporter": "python",
   "pygments_lexer": "ipython2",
   "version": "2.7.6"
  }
 },
 "nbformat": 4,
 "nbformat_minor": 5
}
