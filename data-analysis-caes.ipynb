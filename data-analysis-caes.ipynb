{
 "cells": [
  {
   "metadata": {},
   "cell_type": "markdown",
   "source": [
    "# CAES Dataset Notebook\n",
    "## 4. Data Analysis\n",
    "\n",
    "Tests related to the CAES essay dataset.\n",
    "\n",
    "### Load dataset"
   ],
   "id": "519125d78b19c862"
  },
  {
   "metadata": {
    "collapsed": true,
    "ExecuteTime": {
     "end_time": "2025-06-30T17:23:41.840743Z",
     "start_time": "2025-06-30T17:23:41.618605Z"
    }
   },
   "cell_type": "code",
   "source": [
    "import pandas as pd\n",
    "\n",
    "df = pd.read_csv(\"caes/cleaned_caes.csv\")\n",
    "print(\"Shape:\", df.shape)\n",
    "df"
   ],
   "id": "initial_id",
   "outputs": [
    {
     "name": "stdout",
     "output_type": "stream",
     "text": [
      "Shape: (26653, 5)\n"
     ]
    },
    {
     "data": {
      "text/plain": [
       "       essay_id                                          full_text score  \\\n",
       "0             0  hola carlos ! hace mucho que no te veo hombre ...    B1   \n",
       "1             1  hola querida sara , espero que estes muy bien ...    A2   \n",
       "2             2  como estais ? ! hola amigos ! ? espero que tod...    A1   \n",
       "3             3  cuando llegué a el destino , le propuso que si...    A2   \n",
       "4             4  ¿ que tal ? un beso espero que todo va bien po...    A1   \n",
       "...         ...                                                ...   ...   \n",
       "26648     26648  buenas tardes ! 29_de_mayo_de_2019 salamanca q...    B1   \n",
       "26649     26649  tengo la seguridad de mí mismo para contener e...    B2   \n",
       "26650     26650  distinguidos señor / señra : hola , gerente . ...    B1   \n",
       "26651     26651  le escribo esta carta porque me gustaría inmen...    B2   \n",
       "26652     26652  me gusta ir a mallorca y me gusta espeicalment...    A1   \n",
       "\n",
       "       word_count                 prompt_name  \n",
       "0             212                 Carta amigo  \n",
       "1             175                 Carta amigo  \n",
       "2             104           Postal vacaciones  \n",
       "3             135           Postal vacaciones  \n",
       "4              80                     Familia  \n",
       "...           ...                         ...  \n",
       "26648         299                 Carta amigo  \n",
       "26649         157          Solicitud admisión  \n",
       "26650         178  Reclamación compañía aérea  \n",
       "26651         303          Solicitud admisión  \n",
       "26652         155              Cambio trabajo  \n",
       "\n",
       "[26653 rows x 5 columns]"
      ],
      "text/html": [
       "<div>\n",
       "<style scoped>\n",
       "    .dataframe tbody tr th:only-of-type {\n",
       "        vertical-align: middle;\n",
       "    }\n",
       "\n",
       "    .dataframe tbody tr th {\n",
       "        vertical-align: top;\n",
       "    }\n",
       "\n",
       "    .dataframe thead th {\n",
       "        text-align: right;\n",
       "    }\n",
       "</style>\n",
       "<table border=\"1\" class=\"dataframe\">\n",
       "  <thead>\n",
       "    <tr style=\"text-align: right;\">\n",
       "      <th></th>\n",
       "      <th>essay_id</th>\n",
       "      <th>full_text</th>\n",
       "      <th>score</th>\n",
       "      <th>word_count</th>\n",
       "      <th>prompt_name</th>\n",
       "    </tr>\n",
       "  </thead>\n",
       "  <tbody>\n",
       "    <tr>\n",
       "      <th>0</th>\n",
       "      <td>0</td>\n",
       "      <td>hola carlos ! hace mucho que no te veo hombre ...</td>\n",
       "      <td>B1</td>\n",
       "      <td>212</td>\n",
       "      <td>Carta amigo</td>\n",
       "    </tr>\n",
       "    <tr>\n",
       "      <th>1</th>\n",
       "      <td>1</td>\n",
       "      <td>hola querida sara , espero que estes muy bien ...</td>\n",
       "      <td>A2</td>\n",
       "      <td>175</td>\n",
       "      <td>Carta amigo</td>\n",
       "    </tr>\n",
       "    <tr>\n",
       "      <th>2</th>\n",
       "      <td>2</td>\n",
       "      <td>como estais ? ! hola amigos ! ? espero que tod...</td>\n",
       "      <td>A1</td>\n",
       "      <td>104</td>\n",
       "      <td>Postal vacaciones</td>\n",
       "    </tr>\n",
       "    <tr>\n",
       "      <th>3</th>\n",
       "      <td>3</td>\n",
       "      <td>cuando llegué a el destino , le propuso que si...</td>\n",
       "      <td>A2</td>\n",
       "      <td>135</td>\n",
       "      <td>Postal vacaciones</td>\n",
       "    </tr>\n",
       "    <tr>\n",
       "      <th>4</th>\n",
       "      <td>4</td>\n",
       "      <td>¿ que tal ? un beso espero que todo va bien po...</td>\n",
       "      <td>A1</td>\n",
       "      <td>80</td>\n",
       "      <td>Familia</td>\n",
       "    </tr>\n",
       "    <tr>\n",
       "      <th>...</th>\n",
       "      <td>...</td>\n",
       "      <td>...</td>\n",
       "      <td>...</td>\n",
       "      <td>...</td>\n",
       "      <td>...</td>\n",
       "    </tr>\n",
       "    <tr>\n",
       "      <th>26648</th>\n",
       "      <td>26648</td>\n",
       "      <td>buenas tardes ! 29_de_mayo_de_2019 salamanca q...</td>\n",
       "      <td>B1</td>\n",
       "      <td>299</td>\n",
       "      <td>Carta amigo</td>\n",
       "    </tr>\n",
       "    <tr>\n",
       "      <th>26649</th>\n",
       "      <td>26649</td>\n",
       "      <td>tengo la seguridad de mí mismo para contener e...</td>\n",
       "      <td>B2</td>\n",
       "      <td>157</td>\n",
       "      <td>Solicitud admisión</td>\n",
       "    </tr>\n",
       "    <tr>\n",
       "      <th>26650</th>\n",
       "      <td>26650</td>\n",
       "      <td>distinguidos señor / señra : hola , gerente . ...</td>\n",
       "      <td>B1</td>\n",
       "      <td>178</td>\n",
       "      <td>Reclamación compañía aérea</td>\n",
       "    </tr>\n",
       "    <tr>\n",
       "      <th>26651</th>\n",
       "      <td>26651</td>\n",
       "      <td>le escribo esta carta porque me gustaría inmen...</td>\n",
       "      <td>B2</td>\n",
       "      <td>303</td>\n",
       "      <td>Solicitud admisión</td>\n",
       "    </tr>\n",
       "    <tr>\n",
       "      <th>26652</th>\n",
       "      <td>26652</td>\n",
       "      <td>me gusta ir a mallorca y me gusta espeicalment...</td>\n",
       "      <td>A1</td>\n",
       "      <td>155</td>\n",
       "      <td>Cambio trabajo</td>\n",
       "    </tr>\n",
       "  </tbody>\n",
       "</table>\n",
       "<p>26653 rows × 5 columns</p>\n",
       "</div>"
      ]
     },
     "execution_count": 23,
     "metadata": {},
     "output_type": "execute_result"
    }
   ],
   "execution_count": 23
  },
  {
   "metadata": {
    "ExecuteTime": {
     "end_time": "2025-06-30T17:23:42.279895Z",
     "start_time": "2025-06-30T17:23:42.273084Z"
    }
   },
   "cell_type": "code",
   "source": [
    "print(\"Column names:\", df.columns.tolist())\n",
    "print(\"\\nData types:\\n\", df.dtypes)\n",
    "print(\"\\nMissing values:\\n\", df.isnull().sum())"
   ],
   "id": "a3e77c4e38902d0d",
   "outputs": [
    {
     "name": "stdout",
     "output_type": "stream",
     "text": [
      "Column names: ['essay_id', 'full_text', 'score', 'word_count', 'prompt_name']\n",
      "\n",
      "Data types:\n",
      " essay_id        int64\n",
      "full_text      object\n",
      "score          object\n",
      "word_count      int64\n",
      "prompt_name    object\n",
      "dtype: object\n",
      "\n",
      "Missing values:\n",
      " essay_id       0\n",
      "full_text      0\n",
      "score          0\n",
      "word_count     0\n",
      "prompt_name    0\n",
      "dtype: int64\n"
     ]
    }
   ],
   "execution_count": 24
  },
  {
   "metadata": {
    "ExecuteTime": {
     "end_time": "2025-06-30T17:23:42.790143Z",
     "start_time": "2025-06-30T17:23:42.780256Z"
    }
   },
   "cell_type": "code",
   "source": "df[[\"word_count\"]].describe()",
   "id": "28a53c4c21432640",
   "outputs": [
    {
     "data": {
      "text/plain": [
       "         word_count\n",
       "count  26653.000000\n",
       "mean     185.708025\n",
       "std       84.704274\n",
       "min       80.000000\n",
       "25%      123.000000\n",
       "50%      164.000000\n",
       "75%      227.000000\n",
       "max      771.000000"
      ],
      "text/html": [
       "<div>\n",
       "<style scoped>\n",
       "    .dataframe tbody tr th:only-of-type {\n",
       "        vertical-align: middle;\n",
       "    }\n",
       "\n",
       "    .dataframe tbody tr th {\n",
       "        vertical-align: top;\n",
       "    }\n",
       "\n",
       "    .dataframe thead th {\n",
       "        text-align: right;\n",
       "    }\n",
       "</style>\n",
       "<table border=\"1\" class=\"dataframe\">\n",
       "  <thead>\n",
       "    <tr style=\"text-align: right;\">\n",
       "      <th></th>\n",
       "      <th>word_count</th>\n",
       "    </tr>\n",
       "  </thead>\n",
       "  <tbody>\n",
       "    <tr>\n",
       "      <th>count</th>\n",
       "      <td>26653.000000</td>\n",
       "    </tr>\n",
       "    <tr>\n",
       "      <th>mean</th>\n",
       "      <td>185.708025</td>\n",
       "    </tr>\n",
       "    <tr>\n",
       "      <th>std</th>\n",
       "      <td>84.704274</td>\n",
       "    </tr>\n",
       "    <tr>\n",
       "      <th>min</th>\n",
       "      <td>80.000000</td>\n",
       "    </tr>\n",
       "    <tr>\n",
       "      <th>25%</th>\n",
       "      <td>123.000000</td>\n",
       "    </tr>\n",
       "    <tr>\n",
       "      <th>50%</th>\n",
       "      <td>164.000000</td>\n",
       "    </tr>\n",
       "    <tr>\n",
       "      <th>75%</th>\n",
       "      <td>227.000000</td>\n",
       "    </tr>\n",
       "    <tr>\n",
       "      <th>max</th>\n",
       "      <td>771.000000</td>\n",
       "    </tr>\n",
       "  </tbody>\n",
       "</table>\n",
       "</div>"
      ]
     },
     "execution_count": 25,
     "metadata": {},
     "output_type": "execute_result"
    }
   ],
   "execution_count": 25
  },
  {
   "metadata": {
    "ExecuteTime": {
     "end_time": "2025-06-30T17:23:43.666138Z",
     "start_time": "2025-06-30T17:23:43.572014Z"
    }
   },
   "cell_type": "code",
   "source": [
    "import matplotlib.pyplot as plt\n",
    "\n",
    "df[\"score\"].value_counts().sort_index().plot(kind='bar')\n",
    "plt.title(\"Distribution of Essay Scores\")\n",
    "plt.xlabel(\"Score\")\n",
    "plt.ylabel(\"Number of Essays\")\n",
    "plt.grid(axis=\"y\")\n",
    "plt.tight_layout()"
   ],
   "id": "c4699207755e8771",
   "outputs": [
    {
     "data": {
      "text/plain": [
       "<Figure size 640x480 with 1 Axes>"
      ],
      "image/png": "[encoded data removed]"
     },
     "metadata": {},
     "output_type": "display_data"
    }
   ],
   "execution_count": 26
  },
  {
   "metadata": {
    "ExecuteTime": {
     "end_time": "2025-06-30T17:46:05.359672Z",
     "start_time": "2025-06-30T17:46:05.245716Z"
    }
   },
   "cell_type": "code",
   "source": [
    "import seaborn as sns\n",
    "\n",
    "# define order\n",
    "order = [\"A1\",\"A2\",\"B1\",\"B2\",\"C1\"]\n",
    "df[\"score\"] = pd.Categorical(df[\"score\"], categories=order, ordered=True)\n",
    "\n",
    "# plot\n",
    "sns.boxplot(data=df, x=\"score\", y=\"word_count\")\n",
    "plt.title(\"Word Count by Essay Score (CAES)\")\n",
    "plt.xlabel(\"Score\")\n",
    "plt.ylabel(\"Word Count\")\n",
    "plt.tight_layout()"
   ],
   "id": "330d0e08e08837c4",
   "outputs": [
    {
     "data": {
      "text/plain": [
       "<Figure size 640x480 with 1 Axes>"
      ],
      "image/png": "[encoded data removed]"
     },
     "metadata": {},
     "output_type": "display_data"
    }
   ],
   "execution_count": 33
  },
  {
   "metadata": {
    "ExecuteTime": {
     "end_time": "2025-06-30T17:50:10.814872Z",
     "start_time": "2025-06-30T17:50:10.798585Z"
    }
   },
   "cell_type": "code",
   "source": "df.groupby(\"score\")[\"word_count\"].agg(['count','mean','median','std'])",
   "id": "84f5000dfb36e81f",
   "outputs": [
    {
     "name": "stderr",
     "output_type": "stream",
     "text": [
      "/var/folders/4n/slwln6451ql9kp_wwdcstgf00000gn/T/ipykernel_15988/3238444863.py:1: FutureWarning: The default of observed=False is deprecated and will be changed to True in a future version of pandas. Pass observed=False to retain current behavior or observed=True to adopt the future default and silence this warning.\n",
      "  df.groupby(\"score\")[\"word_count\"].agg(['count','mean','median','std'])\n"
     ]
    },
    {
     "data": {
      "text/plain": [
       "       count        mean  median         std\n",
       "score                                       \n",
       "A1      5599  130.937846   119.0   45.547215\n",
       "A2      7440  151.941801   143.0   50.012279\n",
       "B1      6079  178.462905   173.0   57.701849\n",
       "B2      4658  240.350580   239.0   69.142278\n",
       "C1      2877  306.457769   301.0  113.500011"
      ],
      "text/html": [
       "<div>\n",
       "<style scoped>\n",
       "    .dataframe tbody tr th:only-of-type {\n",
       "        vertical-align: middle;\n",
       "    }\n",
       "\n",
       "    .dataframe tbody tr th {\n",
       "        vertical-align: top;\n",
       "    }\n",
       "\n",
       "    .dataframe thead th {\n",
       "        text-align: right;\n",
       "    }\n",
       "</style>\n",
       "<table border=\"1\" class=\"dataframe\">\n",
       "  <thead>\n",
       "    <tr style=\"text-align: right;\">\n",
       "      <th></th>\n",
       "      <th>count</th>\n",
       "      <th>mean</th>\n",
       "      <th>median</th>\n",
       "      <th>std</th>\n",
       "    </tr>\n",
       "    <tr>\n",
       "      <th>score</th>\n",
       "      <th></th>\n",
       "      <th></th>\n",
       "      <th></th>\n",
       "      <th></th>\n",
       "    </tr>\n",
       "  </thead>\n",
       "  <tbody>\n",
       "    <tr>\n",
       "      <th>A1</th>\n",
       "      <td>5599</td>\n",
       "      <td>130.937846</td>\n",
       "      <td>119.0</td>\n",
       "      <td>45.547215</td>\n",
       "    </tr>\n",
       "    <tr>\n",
       "      <th>A2</th>\n",
       "      <td>7440</td>\n",
       "      <td>151.941801</td>\n",
       "      <td>143.0</td>\n",
       "      <td>50.012279</td>\n",
       "    </tr>\n",
       "    <tr>\n",
       "      <th>B1</th>\n",
       "      <td>6079</td>\n",
       "      <td>178.462905</td>\n",
       "      <td>173.0</td>\n",
       "      <td>57.701849</td>\n",
       "    </tr>\n",
       "    <tr>\n",
       "      <th>B2</th>\n",
       "      <td>4658</td>\n",
       "      <td>240.350580</td>\n",
       "      <td>239.0</td>\n",
       "      <td>69.142278</td>\n",
       "    </tr>\n",
       "    <tr>\n",
       "      <th>C1</th>\n",
       "      <td>2877</td>\n",
       "      <td>306.457769</td>\n",
       "      <td>301.0</td>\n",
       "      <td>113.500011</td>\n",
       "    </tr>\n",
       "  </tbody>\n",
       "</table>\n",
       "</div>"
      ]
     },
     "execution_count": 37,
     "metadata": {},
     "output_type": "execute_result"
    }
   ],
   "execution_count": 37
  },
  {
   "metadata": {},
   "cell_type": "code",
   "outputs": [],
   "execution_count": null,
   "source": "",
   "id": "5961747263070468"
  }
 ],
 "metadata": {
  "kernelspec": {
   "display_name": "Python 3",
   "language": "python",
   "name": "python3"
  },
  "language_info": {
   "codemirror_mode": {
    "name": "ipython",
    "version": 2
   },
   "file_extension": ".py",
   "mimetype": "text/x-python",
   "name": "python",
   "nbconvert_exporter": "python",
   "pygments_lexer": "ipython2",
   "version": "2.7.6"
  }
 },
 "nbformat": 4,
 "nbformat_minor": 5
}
