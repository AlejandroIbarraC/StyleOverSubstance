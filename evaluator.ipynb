{
 "cells": [
  {
   "metadata": {},
   "cell_type": "markdown",
   "source": [
    "# PERSUADE 2.0 Dataset Notebook\n",
    "## 3. Evaluator\n",
    "\n",
    "Tests related to the PERSUADE 2.0 essay dataset.\n",
    "\n",
    "### Load dataset"
   ],
   "id": "c1407c51e3f83907"
  },
  {
   "metadata": {
    "collapsed": true
   },
   "cell_type": "code",
   "outputs": [],
   "execution_count": null,
   "source": [
    "# load datasets\n",
    "\n",
    "import pandas as pd\n",
    "\n",
    "stance_pro_to_con_df = pd.read_csv('counterfactuals/stance_pro_to_con.csv')\n",
    "stance_con_to_pro_df = pd.read_csv('counterfactuals/stance_con_to_pro.csv')\n",
    "\n",
    "sentiment_positive_to_negative_df = pd.read_csv('counterfactuals/sentiment_positive_to_negative.csv')\n",
    "sentiment_negative_to_positive_df = pd.read_csv('counterfactuals/sentiment_negative_to_positive.csv')\n",
    "\n",
    "formality_formal_to_informal_df = pd.read_csv('counterfactuals/formality_formal_to_informal.csv')\n",
    "formality_informal_to_formal_df = pd.read_csv('counterfactuals/formality_informal_to_formal.csv')"
   ],
   "id": "initial_id"
  },
  {
   "metadata": {},
   "cell_type": "markdown",
   "source": "### Essay evaluation",
   "id": "aa3cbb0ba3df0939"
  },
  {
   "metadata": {},
   "cell_type": "code",
   "outputs": [],
   "execution_count": null,
   "source": [
    "import requests\n",
    "from sklearn.metrics import cohen_kappa_score\n",
    "\n",
    "# strings to be used in building the evaluation prompt\n",
    "RUBRIC = \"\"\"\n",
    "- SCORE OF 6: An essay in this category demonstrates clear and consistent mastery, although it may have a few minor errors. A typical essay effectively and insightfully develops a point of view on the issue and demonstrates outstanding critical thinking, using clearly appropriate examples, reasons, and other evidence to support its position; the essay is well organized and clearly focused, demonstrating clear coherence and smooth progression of ideas; the essay exhibits skillful use of language, using a varied, accurate, and apt vocabulary and demonstrates meaningful variety in sentence structure; the essay is free of most errors in grammar, usage, and mechanics.\n",
    "- SCORE OF 5: An essay in this category demonstrates reasonably consistent mastery, although it will have occasional errors or lapses in quality. A typical essay effectively develops a point of view on the issue and demonstrates strong critical thinking, generally using appropriate examples, reasons, and other evidence to support its position; the essay is well organized and focused, demonstrating coherence and progression of ideas; the essay exhibits facility in the use of language, using appropriate vocabulary demonstrates variety in sentence structure; the essay is generally free of most errors in grammar, usage, and mechanics.\n",
    "- SCORE OF 4: An essay in this category demonstrates adequate mastery, although it will have lapses in quality. A typical essay develops a point of view on the issue and demonstrates competent critical thinking, using adequate examples, reasons, and other evidence to support its position; the essay is generally organized and focused, demonstrating some coherence and progression of ideas exhibits adequate; the essay may demonstrate inconsistent facility in the use of language, using generally appropriate vocabulary demonstrates some variety in sentence structure; the essay may have some errors in grammar, usage, and mechanics.\n",
    "- SCORE OF 3: An essay in this category demonstrates developing mastery, and is marked by ONE OR MORE of the following weaknesses: develops a point of view on the issue, demonstrating some critical thinking, but may do so inconsistently or use inadequate examples, reasons, or other evidence to support its position; the essay is limited in its organization or focus, or may demonstrate some lapses in coherence or progression of ideas displays; the essay may demonstrate facility in the use of language, but sometimes uses weak vocabulary or inappropriate word choice and/or lacks variety or demonstrates problems in sentence structure; the essay may contain an accumulation of errors in grammar, usage, and mechanics.\n",
    "- SCORE OF 2: An essay in this category demonstrates little mastery, and is flawed by ONE OR MORE of the following weaknesses: develops a point of view on the issue that is vague or seriously limited, and demonstrates weak critical thinking, providing inappropriate or insufficient examples, reasons, or other evidence to support its position; the essay is poorly organized and/or focused, or demonstrates serious problems with coherence or progression of ideas; the essay displays very little facility in the use of language, using very limited vocabulary or incorrect word choice and/or demonstrates frequent problems in sentence structure; the essay contains errors in grammar, usage, and mechanics so serious that meaning is somewhat obscured.\n",
    "- SCORE OF 1: An essay in this category demonstrates very little or no mastery, and is severely flawed by ONE OR MORE of the following weaknesses: develops no viable point of view on the issue, or provides little or no evidence to support its position; the essay is disorganized or unfocused, resulting in a disjointed or incoherent essay; the essay displays fundamental errors in vocabulary and/or demonstrates severe flaws in sentence structure; the essay contains pervasive errors in grammar, usage, or mechanics that persistently interfere with meaning.\n",
    "\"\"\"\n",
    "\n",
    "FEW_SHOT_EVAL = \"\"\"\n",
    "Example essay 1 of score \"4\":\\n\n",
    "\"phones and driving\\n\\nin this world in which we live in, cell phones are a growing market as well as cars. the fact that we depend on cell phones throught the course of our day for numerous reasons.\\n\\ndrivers should be able to use their cell phones while driving because its easier to operate a phone in your hand than a cell phone that is not in your hand. emergencies can occur while driving and you need to report the emergerncy while driving. cell phones does not cause as big of a distrachon that other things that is done while driving.\\n\\na lot of people are in an uproar about driving and using a cell phone and somehmes it is overrated. trying to operate a cell phone with one hand while maintaining driving has no danger to it. a phone that is mounted on the holder that begins to ring is harder to operate answering, dialing and switching calls.\\n\\nmost hmes the mounhng is not secure or has defected parts which can cause more of an issue than having it to your ear. most people have older cars and cannot a? ord to upgrade and dont have the speaker ophon, which usually allows everyone surrounding your car to know you business.\\n\\ni cannot say it enough, emergencies happen in a ?ash. driving and you see a accident that needs emergency alenhon you need to be able to use the cell phone to call it in. things happen so quickly now and it could be your phone call that saves their life. also if a person is lost and no gps signal but calls can be made a person should be able to dial someone by hand and get direchons out of harms way. emergency is a big deal in cell phone usage.\\n\\ncell phones do not cause as much as a distrachon than people make out to be. as a driver a person should always be aware of the road and be able to mulh-task when using a cell phone. most hmes its other things besides a cell phone that cause a distrachon but blames the cell phone as a scapegoat. there could be test on the driver liscence test that we should take to see if were able to drive and talk on the phone instead of just banning it.\\n\\ntalking on a cell phone and driving a car may be a distrachon for some but not all. it should be our call on if we are focused enough to drive while talking. although some people are said to have had bad behavior while talking and driving some are very responsible. texhng and driving is di? erent from talking and driving and that should be the boundary. each person should be accountable for their achons just as speeding.\"\\n\\n\n",
    "Example Essay 2 of score \"3\":\n",
    "\"phones\\n\\nmodern humans today are always on their phone. they are always on their phone more than 5 hours a day no stop .all they do is text back and forward and just have group chats on social media. they even do it while driving. they are some really bad consequences when stuff happens when it comes to a phone. some certain areas in the united states ban phones from class rooms just because of it.\\n\\nwhen people have phones, they know about certain apps that they have .apps like facebook twitter instagram and snapchat. so like if a friend moves away and you want to be in contact you can still be in contact by posting videos or text messages. people always have different ways how to communicate with a phone. phones have changed due to our generation.\\n\\ndriving is one of the way how to get around. people always be on their phones while doing it. which can cause serious problems. that's why there's a thing that's called no texting while driving. that's a really important thing to remember. some people still do it because they think it's stupid. no matter what they do they still have to obey it because that's the only way how did he save.\\n\\nsometimes on the news there is either an accident or a suicide. it might involve someone not looking where they're going or tweet that someone sent. it either injury or death. if a mysterious number says i'm going to kill you and they know where you live but you don't know the person's contact ,it makes you puzzled and make you start to freak out. which can end up really badly.\\n\\nphones are fine to use and it's also the best way to come over help. if you go through a problem and you can't find help you ,always have a phone there with you. even though phones are used almost every day as long as you're safe it would come into use if you get into trouble. make sure you do not be like this phone while you're in the middle of driving. the news always updated when people do something stupid around that involves their phones. the safest way is the best way to stay safe.\"\\n\\n\n",
    "Example Essay 3 of score \"2\":\\n\n",
    "\"should people drive with their cellphone or not?\\n\\nwe all love our phones now a days and basically ever since they were invented. everyone has one or wants one or the newest latest one .ever since they were invented in 1700s people have taken the full advantage of the telephone presidents and war sargents used them to win battles and etc. now the phone has evolved from tube looking phones to brick phones to flip phones to iphones and to smartphones. with all the new technology and apps like facetime snapchat3 games music social media there's almost no way anyone could ever put their phones down. but according to statistics in 2013 about 3,154 people died in accidents 424,000 were injured. in 2013, 10% of all drivers ages 15 to 19 involved in fatal accidents were reported to be distracted at the time of the crash.\\n\\nso the question stands do we need to drive while on your cellphone? with all the crashes maybe we should drive without our phones but with the increments in technology we mind as well just use them cars are able to call people just like phones, so if you can call people in your car and be distracted anyways when your calling whom ever. there putting almost smartphones in the car so you can most defiantly be distracted with that. the fact that they are and already are making cars able to drive by themselves is anther reason that is very distracting just as in tulsa the electrically powered car has pilot mode so it drives itself. so many people have been distracted from the road and driving because the car can drive itself even though the car can drive itself you still need to pay attention to the road.\\n\\ni do understand that you don't need to be looking down when driving and i do understand that phones are distracting. so you picking up a cellphone and calling someone can be distracting. also like i said in another essay i did there is a responsibility factor to firstly own a car and secondly to even own a phone. it might seem like it is not a responsibility owning a phone but it is when you own a phone you have personal information in it. if you were lose your phone and have never put a password or security code on it you can lose your information to whoever has your phone could be a hacker could be a random thieve.\\n\\nso really my answer is that it really depends on your responsibility level if you can't stay off your phone and it's life then you need to let someone drive but if you can be responsible while driving then i'd say you should us your phone responsibly. cause if you drive irresponsibly you should have your phone.\"\\n\n",
    "\"\"\"\n",
    "\n",
    "# calls local Ollama API Mistral instance with a defined text prompt\n",
    "def query_ollama(prompt, model, temperature=0):\n",
    "    response = requests.post(\n",
    "        \"http://localhost:11434/api/generate\",\n",
    "        json={\"model\": model,\n",
    "              \"prompt\": prompt,\n",
    "              \"stream\": False,\n",
    "              \"options\": {\n",
    "                  \"temperature\": temperature\n",
    "              }\n",
    "        }\n",
    "    )\n",
    "    return response.json()[\"response\"].strip()\n",
    "\n",
    "\n",
    "# builds the evaluation prompt to be fed to the LLM evaluator\n",
    "def build_eval_prompt(text):\n",
    "    return (\n",
    "        f\"You are an essay rater specializing in the evaluation of essays written by students from 6th to 12th grade. \"\n",
    "        f\"Read and evaluate the essay: \\n\\n{FEW_SHOT_EVAL}\\n\"\n",
    "        f\"Essay to score:\\n{text}\\n\\n\"\n",
    "        f\"Assign it a score from 1 to 6, in increments of 1, based on this rubric:\\n\\n{RUBRIC}\\n\\n\"\n",
    "        f\"Your response should be only a numeric value representing the score you gave.\"\n",
    "    )\n",
    "\n",
    "# function to evaluate all essays from a df\n",
    "def evaluate_essays(df, model=\"llama3:8b\"):\n",
    "    scores = []\n",
    "\n",
    "    for idx, row in df.iterrows():\n",
    "        prompt = build_eval_prompt(row['full_text'])\n",
    "        score_og = row['score_og']\n",
    "\n",
    "        try:\n",
    "            print(\"----------------\")\n",
    "            print(\"evaluating essay...\")\n",
    "            response = query_ollama(prompt, model=model)\n",
    "            score = int(response.strip())\n",
    "\n",
    "            if 1 <= score <= 6:\n",
    "                # score is right\n",
    "                print(f\"[{idx}] evaluated. score: {score}. score_og: {score_og}\")\n",
    "                scores.append(score)\n",
    "            else:\n",
    "                print(f\"invalid score from LLM at idx {idx}: {response}\")\n",
    "                scores.append(None)\n",
    "        except Exception as e:\n",
    "            print(f\"error scoring essay at idx {idx}: {e}\")\n",
    "            scores.append(None)\n",
    "\n",
    "    df[\"score_llm\"] = scores\n",
    "\n",
    "    return df\n",
    "\n",
    "# computes qwk value from df using original score and llm score\n",
    "def compute_qwk(df):\n",
    "    df_clean = df.dropna(subset=[\"score_og\", \"score_llm\"])\n",
    "\n",
    "    # extract originals and counterfactuals\n",
    "    originals = df_clean[df_clean[\"essay_code\"].str.endswith(\"-O\")]\n",
    "    cf = df_clean[df_clean[\"essay_code\"].str.contains(\"-C\")]\n",
    "\n",
    "    qwk_original = cohen_kappa_score(originals[\"score_og\"], originals[\"score_llm\"], weights='quadratic')\n",
    "    qwk_cf = cohen_kappa_score(cf[\"score_og\"], cf[\"score_llm\"], weights='quadratic')\n",
    "\n",
    "    print(f\"QWK (Originals): {qwk_original:.4f}\")\n",
    "    print(f\"QWK (Counterfactuals): {qwk_cf:.4f}\")\n",
    "\n",
    "    return qwk_original, qwk_cf"
   ],
   "id": "149b42d092ff4e49"
  },
  {
   "metadata": {},
   "cell_type": "markdown",
   "source": "### Evaluation### Evaluation",
   "id": "ca6a0bd6905e703a"
  },
  {
   "metadata": {},
   "cell_type": "markdown",
   "source": "#### Stance:",
   "id": "ffa5f8f911b99722"
  },
  {
   "metadata": {},
   "cell_type": "code",
   "outputs": [],
   "execution_count": null,
   "source": [
    "# score PRO -> CON flipped stance counterfactuals and their originals\n",
    "\n",
    "stance_pro_to_con_scored_df = evaluate_essays(stance_pro_to_con_df, 'gemma3:12b')\n",
    "\n",
    "stance_pro_to_con_scored_df"
   ],
   "id": "aa12a4ee84df7e1a"
  },
  {
   "metadata": {},
   "cell_type": "code",
   "outputs": [],
   "execution_count": null,
   "source": [
    "# score CON -> PRO flipped stance counterfactuals and their originals\n",
    "\n",
    "stance_con_to_pro_scored_df = evaluate_essays(stance_con_to_pro_df, 'gemma3:12b')\n",
    "\n",
    "stance_con_to_pro_scored_df"
   ],
   "id": "a413d6d86058aa07"
  },
  {
   "metadata": {},
   "cell_type": "markdown",
   "source": "#### Sentiment:",
   "id": "d5a1b51783773b85"
  },
  {
   "metadata": {},
   "cell_type": "code",
   "outputs": [],
   "execution_count": null,
   "source": [
    "# score POSITIVE -> NEGATIVE flipped sentiment counterfactuals and their originals\n",
    "\n",
    "sentiment_positive_to_negative_scored_df = evaluate_essays(sentiment_positive_to_negative_df, 'gemma3:12b')\n",
    "\n",
    "sentiment_positive_to_negative_scored_df"
   ],
   "id": "b427ca32f48dba08"
  },
  {
   "metadata": {},
   "cell_type": "code",
   "outputs": [],
   "execution_count": null,
   "source": [
    "# score NEGATIVE -> POSITIVE flipped sentiment counterfactuals and their originals\n",
    "\n",
    "sentiment_negative_to_positive_scored_df = evaluate_essays(sentiment_negative_to_positive_df, 'gemma3:12b')\n",
    "\n",
    "sentiment_negative_to_positive_scored_df"
   ],
   "id": "a913e48c44b9c089"
  },
  {
   "metadata": {},
   "cell_type": "markdown",
   "source": "#### Formality",
   "id": "f405967ab9ace9ab"
  },
  {
   "metadata": {},
   "cell_type": "code",
   "outputs": [],
   "execution_count": null,
   "source": [
    "# score FORMAL -> INFORMAL flipped formality counterfactuals and their originals\n",
    "\n",
    "formality_formal_to_informal_scored_df = evaluate_essays(formality_formal_to_informal_df, 'gemma3:12b')\n",
    "\n",
    "formality_formal_to_informal_scored_df"
   ],
   "id": "e939681130dcce19"
  },
  {
   "metadata": {},
   "cell_type": "code",
   "outputs": [],
   "execution_count": null,
   "source": [
    "# score INFORMAL -> FORMAL flipped formality counterfactuals and their originals\n",
    "\n",
    "formality_informal_to_formal_scored_df = evaluate_essays(formality_informal_to_formal_df, 'gemma3:12b')\n",
    "\n",
    "formality_informal_to_formal_scored_df"
   ],
   "id": "8742cd83dc911dc9"
  },
  {
   "metadata": {},
   "cell_type": "markdown",
   "source": "#### Saving to folder",
   "id": "3517279b3ce66b9e"
  },
  {
   "metadata": {},
   "cell_type": "code",
   "outputs": [],
   "execution_count": null,
   "source": [
    "import os\n",
    "\n",
    "# save scored counterfactuals to their own folder\n",
    "os.makedirs(\"counterfactuals_scored\", exist_ok=True)\n",
    "\n",
    "stance_pro_to_con_scored_df.to_csv(\"counterfactuals_scored/stance_pro_to_con_scored.csv\", index=False)\n",
    "stance_con_to_pro_scored_df.to_csv(\"counterfactuals_scored/stance_con_to_pro_scored.csv\", index=False)\n",
    "\n",
    "sentiment_positive_to_negative_scored_df.to_csv(\"counterfactuals_scored/sentiment_positive_to_negative_scored.csv\", index=False)\n",
    "sentiment_negative_to_positive_scored_df.to_csv(\"counterfactuals_scored/sentiment_negative_to_positive_scored.csv\", index=False)\n",
    "\n",
    "formality_formal_to_informal_scored_df.to_csv(\"counterfactuals_scored/formality_formal_to_informal_scored.csv\", index=False)\n",
    "formality_informal_to_formal_scored_df.to_csv(\"counterfactuals_scored/formality_informal_to_formal_scored.csv\", index=False)"
   ],
   "id": "4c55c152ffef551a"
  }
 ],
 "metadata": {
  "kernelspec": {
   "display_name": "Python 3",
   "language": "python",
   "name": "python3"
  },
  "language_info": {
   "codemirror_mode": {
    "name": "ipython",
    "version": 2
   },
   "file_extension": ".py",
   "mimetype": "text/x-python",
   "name": "python",
   "nbconvert_exporter": "python",
   "pygments_lexer": "ipython2",
   "version": "2.7.6"
  }
 },
 "nbformat": 4,
 "nbformat_minor": 5
}
